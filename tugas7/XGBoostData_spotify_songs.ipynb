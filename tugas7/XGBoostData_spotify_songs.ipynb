{
  "nbformat": 4,
  "nbformat_minor": 0,
  "metadata": {
    "colab": {
      "provenance": [],
      "authorship_tag": "ABX9TyNBQreepLUrHfE6N5KH1hHa",
      "include_colab_link": true
    },
    "kernelspec": {
      "name": "python3",
      "display_name": "Python 3"
    },
    "language_info": {
      "name": "python"
    }
  },
  "cells": [
    {
      "cell_type": "markdown",
      "metadata": {
        "id": "view-in-github",
        "colab_type": "text"
      },
      "source": [
        "<a href=\"https://colab.research.google.com/github/IhsanRidhoAsmoro/MachineLearningTask/blob/main/tugas7/XGBoostData_spotify_songs.ipynb\" target=\"_parent\"><img src=\"https://colab.research.google.com/assets/colab-badge.svg\" alt=\"Open In Colab\"/></a>"
      ]
    },
    {
      "cell_type": "code",
      "execution_count": 1,
      "metadata": {
        "colab": {
          "base_uri": "https://localhost:8080/"
        },
        "id": "Q2aRbOYjpr-y",
        "outputId": "d38c3bdb-10d2-48e0-d796-ddb3b3b5f7f2"
      },
      "outputs": [
        {
          "output_type": "stream",
          "name": "stdout",
          "text": [
            "Mounted at /content/drive\n"
          ]
        }
      ],
      "source": [
        "from google.colab import drive\n",
        "drive.mount('/content/drive')"
      ]
    },
    {
      "cell_type": "code",
      "source": [
        "import pandas as pd"
      ],
      "metadata": {
        "id": "3oOa3JWsq922"
      },
      "execution_count": 2,
      "outputs": []
    },
    {
      "cell_type": "code",
      "source": [
        "data = pd.read_csv('/content/drive/MyDrive/Colab Notebooks/data.csv')"
      ],
      "metadata": {
        "id": "GVwbmJkerDgg"
      },
      "execution_count": 3,
      "outputs": []
    },
    {
      "cell_type": "code",
      "source": [
        "data"
      ],
      "metadata": {
        "colab": {
          "base_uri": "https://localhost:8080/",
          "height": 790
        },
        "id": "azNF-mture5T",
        "outputId": "17b75e56-9a74-45b5-c001-0c22eb8325be"
      },
      "execution_count": 4,
      "outputs": [
        {
          "output_type": "execute_result",
          "data": {
            "text/plain": [
              "        valence  year  acousticness  \\\n",
              "0        0.0594  1921       0.98200   \n",
              "1        0.9630  1921       0.73200   \n",
              "2        0.0394  1921       0.96100   \n",
              "3        0.1650  1921       0.96700   \n",
              "4        0.2530  1921       0.95700   \n",
              "...         ...   ...           ...   \n",
              "170648   0.6080  2020       0.08460   \n",
              "170649   0.7340  2020       0.20600   \n",
              "170650   0.6370  2020       0.10100   \n",
              "170651   0.1950  2020       0.00998   \n",
              "170652   0.6420  2020       0.13200   \n",
              "\n",
              "                                                  artists  danceability  \\\n",
              "0       ['Sergei Rachmaninoff', 'James Levine', 'Berli...         0.279   \n",
              "1                                          ['Dennis Day']         0.819   \n",
              "2       ['KHP Kridhamardawa Karaton Ngayogyakarta Hadi...         0.328   \n",
              "3                                        ['Frank Parker']         0.275   \n",
              "4                                          ['Phil Regan']         0.418   \n",
              "...                                                   ...           ...   \n",
              "170648  ['Anuel AA', 'Daddy Yankee', 'KAROL G', 'Ozuna...         0.786   \n",
              "170649                                       ['Ashnikko']         0.717   \n",
              "170650                                        ['MAMAMOO']         0.634   \n",
              "170651                                         ['Eminem']         0.671   \n",
              "170652                              ['KEVVO', 'J Balvin']         0.856   \n",
              "\n",
              "        duration_ms  energy  explicit                      id  \\\n",
              "0            831667   0.211         0  4BJqT0PrAfrxzMOxytFOIz   \n",
              "1            180533   0.341         0  7xPhfUan2yNtyFG0cUWkt8   \n",
              "2            500062   0.166         0  1o6I8BglA6ylDMrIELygv1   \n",
              "3            210000   0.309         0  3ftBPsC5vPBKxYSee08FDH   \n",
              "4            166693   0.193         0  4d6HGyGT8e121BsdKmw9v6   \n",
              "...             ...     ...       ...                     ...   \n",
              "170648       301714   0.808         0  0KkIkfsLEJbrcIhYsCL7L5   \n",
              "170649       150654   0.753         0  0OStKKAuXlxA0fMH54Qs6E   \n",
              "170650       211280   0.858         0  4BZXVFYCb76Q0Klojq4piV   \n",
              "170651       337147   0.623         1  5SiZJoLXp3WOl3J4C8IK0d   \n",
              "170652       189507   0.721         1  7HmnJHfs0BkFzX4x8j0hkl   \n",
              "\n",
              "        instrumentalness  key  liveness  loudness  mode  \\\n",
              "0               0.878000   10    0.6650   -20.096     1   \n",
              "1               0.000000    7    0.1600   -12.441     1   \n",
              "2               0.913000    3    0.1010   -14.850     1   \n",
              "3               0.000028    5    0.3810    -9.316     1   \n",
              "4               0.000002    3    0.2290   -10.096     1   \n",
              "...                  ...  ...       ...       ...   ...   \n",
              "170648          0.000289    7    0.0822    -3.702     1   \n",
              "170649          0.000000    7    0.1010    -6.020     1   \n",
              "170650          0.000009    4    0.2580    -2.226     0   \n",
              "170651          0.000008    2    0.6430    -7.161     1   \n",
              "170652          0.004710    7    0.1820    -4.928     1   \n",
              "\n",
              "                                                     name  popularity  \\\n",
              "0       Piano Concerto No. 3 in D Minor, Op. 30: III. ...           4   \n",
              "1                                 Clancy Lowered the Boom           5   \n",
              "2                                               Gati Bali           5   \n",
              "3                                               Danny Boy           3   \n",
              "4                             When Irish Eyes Are Smiling           2   \n",
              "...                                                   ...         ...   \n",
              "170648                                              China          72   \n",
              "170649                        Halloweenie III: Seven Days          68   \n",
              "170650                                                AYA          76   \n",
              "170651                                           Darkness          70   \n",
              "170652                    Billetes Azules (with J Balvin)          74   \n",
              "\n",
              "       release_date  speechiness    tempo  \n",
              "0              1921       0.0366   80.954  \n",
              "1              1921       0.4150   60.936  \n",
              "2              1921       0.0339  110.339  \n",
              "3              1921       0.0354  100.109  \n",
              "4              1921       0.0380  101.665  \n",
              "...             ...          ...      ...  \n",
              "170648   2020-05-29       0.0881  105.029  \n",
              "170649   2020-10-23       0.0605  137.936  \n",
              "170650   2020-11-03       0.0809   91.688  \n",
              "170651   2020-01-17       0.3080   75.055  \n",
              "170652   2020-10-16       0.1080   94.991  \n",
              "\n",
              "[170653 rows x 19 columns]"
            ],
            "text/html": [
              "\n",
              "  <div id=\"df-3d54ef2b-fa8e-43f1-8ca9-260076d22b43\" class=\"colab-df-container\">\n",
              "    <div>\n",
              "<style scoped>\n",
              "    .dataframe tbody tr th:only-of-type {\n",
              "        vertical-align: middle;\n",
              "    }\n",
              "\n",
              "    .dataframe tbody tr th {\n",
              "        vertical-align: top;\n",
              "    }\n",
              "\n",
              "    .dataframe thead th {\n",
              "        text-align: right;\n",
              "    }\n",
              "</style>\n",
              "<table border=\"1\" class=\"dataframe\">\n",
              "  <thead>\n",
              "    <tr style=\"text-align: right;\">\n",
              "      <th></th>\n",
              "      <th>valence</th>\n",
              "      <th>year</th>\n",
              "      <th>acousticness</th>\n",
              "      <th>artists</th>\n",
              "      <th>danceability</th>\n",
              "      <th>duration_ms</th>\n",
              "      <th>energy</th>\n",
              "      <th>explicit</th>\n",
              "      <th>id</th>\n",
              "      <th>instrumentalness</th>\n",
              "      <th>key</th>\n",
              "      <th>liveness</th>\n",
              "      <th>loudness</th>\n",
              "      <th>mode</th>\n",
              "      <th>name</th>\n",
              "      <th>popularity</th>\n",
              "      <th>release_date</th>\n",
              "      <th>speechiness</th>\n",
              "      <th>tempo</th>\n",
              "    </tr>\n",
              "  </thead>\n",
              "  <tbody>\n",
              "    <tr>\n",
              "      <th>0</th>\n",
              "      <td>0.0594</td>\n",
              "      <td>1921</td>\n",
              "      <td>0.98200</td>\n",
              "      <td>['Sergei Rachmaninoff', 'James Levine', 'Berli...</td>\n",
              "      <td>0.279</td>\n",
              "      <td>831667</td>\n",
              "      <td>0.211</td>\n",
              "      <td>0</td>\n",
              "      <td>4BJqT0PrAfrxzMOxytFOIz</td>\n",
              "      <td>0.878000</td>\n",
              "      <td>10</td>\n",
              "      <td>0.6650</td>\n",
              "      <td>-20.096</td>\n",
              "      <td>1</td>\n",
              "      <td>Piano Concerto No. 3 in D Minor, Op. 30: III. ...</td>\n",
              "      <td>4</td>\n",
              "      <td>1921</td>\n",
              "      <td>0.0366</td>\n",
              "      <td>80.954</td>\n",
              "    </tr>\n",
              "    <tr>\n",
              "      <th>1</th>\n",
              "      <td>0.9630</td>\n",
              "      <td>1921</td>\n",
              "      <td>0.73200</td>\n",
              "      <td>['Dennis Day']</td>\n",
              "      <td>0.819</td>\n",
              "      <td>180533</td>\n",
              "      <td>0.341</td>\n",
              "      <td>0</td>\n",
              "      <td>7xPhfUan2yNtyFG0cUWkt8</td>\n",
              "      <td>0.000000</td>\n",
              "      <td>7</td>\n",
              "      <td>0.1600</td>\n",
              "      <td>-12.441</td>\n",
              "      <td>1</td>\n",
              "      <td>Clancy Lowered the Boom</td>\n",
              "      <td>5</td>\n",
              "      <td>1921</td>\n",
              "      <td>0.4150</td>\n",
              "      <td>60.936</td>\n",
              "    </tr>\n",
              "    <tr>\n",
              "      <th>2</th>\n",
              "      <td>0.0394</td>\n",
              "      <td>1921</td>\n",
              "      <td>0.96100</td>\n",
              "      <td>['KHP Kridhamardawa Karaton Ngayogyakarta Hadi...</td>\n",
              "      <td>0.328</td>\n",
              "      <td>500062</td>\n",
              "      <td>0.166</td>\n",
              "      <td>0</td>\n",
              "      <td>1o6I8BglA6ylDMrIELygv1</td>\n",
              "      <td>0.913000</td>\n",
              "      <td>3</td>\n",
              "      <td>0.1010</td>\n",
              "      <td>-14.850</td>\n",
              "      <td>1</td>\n",
              "      <td>Gati Bali</td>\n",
              "      <td>5</td>\n",
              "      <td>1921</td>\n",
              "      <td>0.0339</td>\n",
              "      <td>110.339</td>\n",
              "    </tr>\n",
              "    <tr>\n",
              "      <th>3</th>\n",
              "      <td>0.1650</td>\n",
              "      <td>1921</td>\n",
              "      <td>0.96700</td>\n",
              "      <td>['Frank Parker']</td>\n",
              "      <td>0.275</td>\n",
              "      <td>210000</td>\n",
              "      <td>0.309</td>\n",
              "      <td>0</td>\n",
              "      <td>3ftBPsC5vPBKxYSee08FDH</td>\n",
              "      <td>0.000028</td>\n",
              "      <td>5</td>\n",
              "      <td>0.3810</td>\n",
              "      <td>-9.316</td>\n",
              "      <td>1</td>\n",
              "      <td>Danny Boy</td>\n",
              "      <td>3</td>\n",
              "      <td>1921</td>\n",
              "      <td>0.0354</td>\n",
              "      <td>100.109</td>\n",
              "    </tr>\n",
              "    <tr>\n",
              "      <th>4</th>\n",
              "      <td>0.2530</td>\n",
              "      <td>1921</td>\n",
              "      <td>0.95700</td>\n",
              "      <td>['Phil Regan']</td>\n",
              "      <td>0.418</td>\n",
              "      <td>166693</td>\n",
              "      <td>0.193</td>\n",
              "      <td>0</td>\n",
              "      <td>4d6HGyGT8e121BsdKmw9v6</td>\n",
              "      <td>0.000002</td>\n",
              "      <td>3</td>\n",
              "      <td>0.2290</td>\n",
              "      <td>-10.096</td>\n",
              "      <td>1</td>\n",
              "      <td>When Irish Eyes Are Smiling</td>\n",
              "      <td>2</td>\n",
              "      <td>1921</td>\n",
              "      <td>0.0380</td>\n",
              "      <td>101.665</td>\n",
              "    </tr>\n",
              "    <tr>\n",
              "      <th>...</th>\n",
              "      <td>...</td>\n",
              "      <td>...</td>\n",
              "      <td>...</td>\n",
              "      <td>...</td>\n",
              "      <td>...</td>\n",
              "      <td>...</td>\n",
              "      <td>...</td>\n",
              "      <td>...</td>\n",
              "      <td>...</td>\n",
              "      <td>...</td>\n",
              "      <td>...</td>\n",
              "      <td>...</td>\n",
              "      <td>...</td>\n",
              "      <td>...</td>\n",
              "      <td>...</td>\n",
              "      <td>...</td>\n",
              "      <td>...</td>\n",
              "      <td>...</td>\n",
              "      <td>...</td>\n",
              "    </tr>\n",
              "    <tr>\n",
              "      <th>170648</th>\n",
              "      <td>0.6080</td>\n",
              "      <td>2020</td>\n",
              "      <td>0.08460</td>\n",
              "      <td>['Anuel AA', 'Daddy Yankee', 'KAROL G', 'Ozuna...</td>\n",
              "      <td>0.786</td>\n",
              "      <td>301714</td>\n",
              "      <td>0.808</td>\n",
              "      <td>0</td>\n",
              "      <td>0KkIkfsLEJbrcIhYsCL7L5</td>\n",
              "      <td>0.000289</td>\n",
              "      <td>7</td>\n",
              "      <td>0.0822</td>\n",
              "      <td>-3.702</td>\n",
              "      <td>1</td>\n",
              "      <td>China</td>\n",
              "      <td>72</td>\n",
              "      <td>2020-05-29</td>\n",
              "      <td>0.0881</td>\n",
              "      <td>105.029</td>\n",
              "    </tr>\n",
              "    <tr>\n",
              "      <th>170649</th>\n",
              "      <td>0.7340</td>\n",
              "      <td>2020</td>\n",
              "      <td>0.20600</td>\n",
              "      <td>['Ashnikko']</td>\n",
              "      <td>0.717</td>\n",
              "      <td>150654</td>\n",
              "      <td>0.753</td>\n",
              "      <td>0</td>\n",
              "      <td>0OStKKAuXlxA0fMH54Qs6E</td>\n",
              "      <td>0.000000</td>\n",
              "      <td>7</td>\n",
              "      <td>0.1010</td>\n",
              "      <td>-6.020</td>\n",
              "      <td>1</td>\n",
              "      <td>Halloweenie III: Seven Days</td>\n",
              "      <td>68</td>\n",
              "      <td>2020-10-23</td>\n",
              "      <td>0.0605</td>\n",
              "      <td>137.936</td>\n",
              "    </tr>\n",
              "    <tr>\n",
              "      <th>170650</th>\n",
              "      <td>0.6370</td>\n",
              "      <td>2020</td>\n",
              "      <td>0.10100</td>\n",
              "      <td>['MAMAMOO']</td>\n",
              "      <td>0.634</td>\n",
              "      <td>211280</td>\n",
              "      <td>0.858</td>\n",
              "      <td>0</td>\n",
              "      <td>4BZXVFYCb76Q0Klojq4piV</td>\n",
              "      <td>0.000009</td>\n",
              "      <td>4</td>\n",
              "      <td>0.2580</td>\n",
              "      <td>-2.226</td>\n",
              "      <td>0</td>\n",
              "      <td>AYA</td>\n",
              "      <td>76</td>\n",
              "      <td>2020-11-03</td>\n",
              "      <td>0.0809</td>\n",
              "      <td>91.688</td>\n",
              "    </tr>\n",
              "    <tr>\n",
              "      <th>170651</th>\n",
              "      <td>0.1950</td>\n",
              "      <td>2020</td>\n",
              "      <td>0.00998</td>\n",
              "      <td>['Eminem']</td>\n",
              "      <td>0.671</td>\n",
              "      <td>337147</td>\n",
              "      <td>0.623</td>\n",
              "      <td>1</td>\n",
              "      <td>5SiZJoLXp3WOl3J4C8IK0d</td>\n",
              "      <td>0.000008</td>\n",
              "      <td>2</td>\n",
              "      <td>0.6430</td>\n",
              "      <td>-7.161</td>\n",
              "      <td>1</td>\n",
              "      <td>Darkness</td>\n",
              "      <td>70</td>\n",
              "      <td>2020-01-17</td>\n",
              "      <td>0.3080</td>\n",
              "      <td>75.055</td>\n",
              "    </tr>\n",
              "    <tr>\n",
              "      <th>170652</th>\n",
              "      <td>0.6420</td>\n",
              "      <td>2020</td>\n",
              "      <td>0.13200</td>\n",
              "      <td>['KEVVO', 'J Balvin']</td>\n",
              "      <td>0.856</td>\n",
              "      <td>189507</td>\n",
              "      <td>0.721</td>\n",
              "      <td>1</td>\n",
              "      <td>7HmnJHfs0BkFzX4x8j0hkl</td>\n",
              "      <td>0.004710</td>\n",
              "      <td>7</td>\n",
              "      <td>0.1820</td>\n",
              "      <td>-4.928</td>\n",
              "      <td>1</td>\n",
              "      <td>Billetes Azules (with J Balvin)</td>\n",
              "      <td>74</td>\n",
              "      <td>2020-10-16</td>\n",
              "      <td>0.1080</td>\n",
              "      <td>94.991</td>\n",
              "    </tr>\n",
              "  </tbody>\n",
              "</table>\n",
              "<p>170653 rows × 19 columns</p>\n",
              "</div>\n",
              "    <div class=\"colab-df-buttons\">\n",
              "\n",
              "  <div class=\"colab-df-container\">\n",
              "    <button class=\"colab-df-convert\" onclick=\"convertToInteractive('df-3d54ef2b-fa8e-43f1-8ca9-260076d22b43')\"\n",
              "            title=\"Convert this dataframe to an interactive table.\"\n",
              "            style=\"display:none;\">\n",
              "\n",
              "  <svg xmlns=\"http://www.w3.org/2000/svg\" height=\"24px\" viewBox=\"0 -960 960 960\">\n",
              "    <path d=\"M120-120v-720h720v720H120Zm60-500h600v-160H180v160Zm220 220h160v-160H400v160Zm0 220h160v-160H400v160ZM180-400h160v-160H180v160Zm440 0h160v-160H620v160ZM180-180h160v-160H180v160Zm440 0h160v-160H620v160Z\"/>\n",
              "  </svg>\n",
              "    </button>\n",
              "\n",
              "  <style>\n",
              "    .colab-df-container {\n",
              "      display:flex;\n",
              "      gap: 12px;\n",
              "    }\n",
              "\n",
              "    .colab-df-convert {\n",
              "      background-color: #E8F0FE;\n",
              "      border: none;\n",
              "      border-radius: 50%;\n",
              "      cursor: pointer;\n",
              "      display: none;\n",
              "      fill: #1967D2;\n",
              "      height: 32px;\n",
              "      padding: 0 0 0 0;\n",
              "      width: 32px;\n",
              "    }\n",
              "\n",
              "    .colab-df-convert:hover {\n",
              "      background-color: #E2EBFA;\n",
              "      box-shadow: 0px 1px 2px rgba(60, 64, 67, 0.3), 0px 1px 3px 1px rgba(60, 64, 67, 0.15);\n",
              "      fill: #174EA6;\n",
              "    }\n",
              "\n",
              "    .colab-df-buttons div {\n",
              "      margin-bottom: 4px;\n",
              "    }\n",
              "\n",
              "    [theme=dark] .colab-df-convert {\n",
              "      background-color: #3B4455;\n",
              "      fill: #D2E3FC;\n",
              "    }\n",
              "\n",
              "    [theme=dark] .colab-df-convert:hover {\n",
              "      background-color: #434B5C;\n",
              "      box-shadow: 0px 1px 3px 1px rgba(0, 0, 0, 0.15);\n",
              "      filter: drop-shadow(0px 1px 2px rgba(0, 0, 0, 0.3));\n",
              "      fill: #FFFFFF;\n",
              "    }\n",
              "  </style>\n",
              "\n",
              "    <script>\n",
              "      const buttonEl =\n",
              "        document.querySelector('#df-3d54ef2b-fa8e-43f1-8ca9-260076d22b43 button.colab-df-convert');\n",
              "      buttonEl.style.display =\n",
              "        google.colab.kernel.accessAllowed ? 'block' : 'none';\n",
              "\n",
              "      async function convertToInteractive(key) {\n",
              "        const element = document.querySelector('#df-3d54ef2b-fa8e-43f1-8ca9-260076d22b43');\n",
              "        const dataTable =\n",
              "          await google.colab.kernel.invokeFunction('convertToInteractive',\n",
              "                                                    [key], {});\n",
              "        if (!dataTable) return;\n",
              "\n",
              "        const docLinkHtml = 'Like what you see? Visit the ' +\n",
              "          '<a target=\"_blank\" href=https://colab.research.google.com/notebooks/data_table.ipynb>data table notebook</a>'\n",
              "          + ' to learn more about interactive tables.';\n",
              "        element.innerHTML = '';\n",
              "        dataTable['output_type'] = 'display_data';\n",
              "        await google.colab.output.renderOutput(dataTable, element);\n",
              "        const docLink = document.createElement('div');\n",
              "        docLink.innerHTML = docLinkHtml;\n",
              "        element.appendChild(docLink);\n",
              "      }\n",
              "    </script>\n",
              "  </div>\n",
              "\n",
              "\n",
              "<div id=\"df-326f0ab2-049b-4eaa-ac34-e2624d6c51f2\">\n",
              "  <button class=\"colab-df-quickchart\" onclick=\"quickchart('df-326f0ab2-049b-4eaa-ac34-e2624d6c51f2')\"\n",
              "            title=\"Suggest charts\"\n",
              "            style=\"display:none;\">\n",
              "\n",
              "<svg xmlns=\"http://www.w3.org/2000/svg\" height=\"24px\"viewBox=\"0 0 24 24\"\n",
              "     width=\"24px\">\n",
              "    <g>\n",
              "        <path d=\"M19 3H5c-1.1 0-2 .9-2 2v14c0 1.1.9 2 2 2h14c1.1 0 2-.9 2-2V5c0-1.1-.9-2-2-2zM9 17H7v-7h2v7zm4 0h-2V7h2v10zm4 0h-2v-4h2v4z\"/>\n",
              "    </g>\n",
              "</svg>\n",
              "  </button>\n",
              "\n",
              "<style>\n",
              "  .colab-df-quickchart {\n",
              "      --bg-color: #E8F0FE;\n",
              "      --fill-color: #1967D2;\n",
              "      --hover-bg-color: #E2EBFA;\n",
              "      --hover-fill-color: #174EA6;\n",
              "      --disabled-fill-color: #AAA;\n",
              "      --disabled-bg-color: #DDD;\n",
              "  }\n",
              "\n",
              "  [theme=dark] .colab-df-quickchart {\n",
              "      --bg-color: #3B4455;\n",
              "      --fill-color: #D2E3FC;\n",
              "      --hover-bg-color: #434B5C;\n",
              "      --hover-fill-color: #FFFFFF;\n",
              "      --disabled-bg-color: #3B4455;\n",
              "      --disabled-fill-color: #666;\n",
              "  }\n",
              "\n",
              "  .colab-df-quickchart {\n",
              "    background-color: var(--bg-color);\n",
              "    border: none;\n",
              "    border-radius: 50%;\n",
              "    cursor: pointer;\n",
              "    display: none;\n",
              "    fill: var(--fill-color);\n",
              "    height: 32px;\n",
              "    padding: 0;\n",
              "    width: 32px;\n",
              "  }\n",
              "\n",
              "  .colab-df-quickchart:hover {\n",
              "    background-color: var(--hover-bg-color);\n",
              "    box-shadow: 0 1px 2px rgba(60, 64, 67, 0.3), 0 1px 3px 1px rgba(60, 64, 67, 0.15);\n",
              "    fill: var(--button-hover-fill-color);\n",
              "  }\n",
              "\n",
              "  .colab-df-quickchart-complete:disabled,\n",
              "  .colab-df-quickchart-complete:disabled:hover {\n",
              "    background-color: var(--disabled-bg-color);\n",
              "    fill: var(--disabled-fill-color);\n",
              "    box-shadow: none;\n",
              "  }\n",
              "\n",
              "  .colab-df-spinner {\n",
              "    border: 2px solid var(--fill-color);\n",
              "    border-color: transparent;\n",
              "    border-bottom-color: var(--fill-color);\n",
              "    animation:\n",
              "      spin 1s steps(1) infinite;\n",
              "  }\n",
              "\n",
              "  @keyframes spin {\n",
              "    0% {\n",
              "      border-color: transparent;\n",
              "      border-bottom-color: var(--fill-color);\n",
              "      border-left-color: var(--fill-color);\n",
              "    }\n",
              "    20% {\n",
              "      border-color: transparent;\n",
              "      border-left-color: var(--fill-color);\n",
              "      border-top-color: var(--fill-color);\n",
              "    }\n",
              "    30% {\n",
              "      border-color: transparent;\n",
              "      border-left-color: var(--fill-color);\n",
              "      border-top-color: var(--fill-color);\n",
              "      border-right-color: var(--fill-color);\n",
              "    }\n",
              "    40% {\n",
              "      border-color: transparent;\n",
              "      border-right-color: var(--fill-color);\n",
              "      border-top-color: var(--fill-color);\n",
              "    }\n",
              "    60% {\n",
              "      border-color: transparent;\n",
              "      border-right-color: var(--fill-color);\n",
              "    }\n",
              "    80% {\n",
              "      border-color: transparent;\n",
              "      border-right-color: var(--fill-color);\n",
              "      border-bottom-color: var(--fill-color);\n",
              "    }\n",
              "    90% {\n",
              "      border-color: transparent;\n",
              "      border-bottom-color: var(--fill-color);\n",
              "    }\n",
              "  }\n",
              "</style>\n",
              "\n",
              "  <script>\n",
              "    async function quickchart(key) {\n",
              "      const quickchartButtonEl =\n",
              "        document.querySelector('#' + key + ' button');\n",
              "      quickchartButtonEl.disabled = true;  // To prevent multiple clicks.\n",
              "      quickchartButtonEl.classList.add('colab-df-spinner');\n",
              "      try {\n",
              "        const charts = await google.colab.kernel.invokeFunction(\n",
              "            'suggestCharts', [key], {});\n",
              "      } catch (error) {\n",
              "        console.error('Error during call to suggestCharts:', error);\n",
              "      }\n",
              "      quickchartButtonEl.classList.remove('colab-df-spinner');\n",
              "      quickchartButtonEl.classList.add('colab-df-quickchart-complete');\n",
              "    }\n",
              "    (() => {\n",
              "      let quickchartButtonEl =\n",
              "        document.querySelector('#df-326f0ab2-049b-4eaa-ac34-e2624d6c51f2 button');\n",
              "      quickchartButtonEl.style.display =\n",
              "        google.colab.kernel.accessAllowed ? 'block' : 'none';\n",
              "    })();\n",
              "  </script>\n",
              "</div>\n",
              "    </div>\n",
              "  </div>\n"
            ]
          },
          "metadata": {},
          "execution_count": 4
        }
      ]
    },
    {
      "cell_type": "code",
      "source": [
        "data.info()"
      ],
      "metadata": {
        "colab": {
          "base_uri": "https://localhost:8080/"
        },
        "id": "BUgb15gurksh",
        "outputId": "7a30f6ad-d8e1-40f0-8c2d-8c30879e9537"
      },
      "execution_count": 5,
      "outputs": [
        {
          "output_type": "stream",
          "name": "stdout",
          "text": [
            "<class 'pandas.core.frame.DataFrame'>\n",
            "RangeIndex: 170653 entries, 0 to 170652\n",
            "Data columns (total 19 columns):\n",
            " #   Column            Non-Null Count   Dtype  \n",
            "---  ------            --------------   -----  \n",
            " 0   valence           170653 non-null  float64\n",
            " 1   year              170653 non-null  int64  \n",
            " 2   acousticness      170653 non-null  float64\n",
            " 3   artists           170653 non-null  object \n",
            " 4   danceability      170653 non-null  float64\n",
            " 5   duration_ms       170653 non-null  int64  \n",
            " 6   energy            170653 non-null  float64\n",
            " 7   explicit          170653 non-null  int64  \n",
            " 8   id                170653 non-null  object \n",
            " 9   instrumentalness  170653 non-null  float64\n",
            " 10  key               170653 non-null  int64  \n",
            " 11  liveness          170653 non-null  float64\n",
            " 12  loudness          170653 non-null  float64\n",
            " 13  mode              170653 non-null  int64  \n",
            " 14  name              170653 non-null  object \n",
            " 15  popularity        170653 non-null  int64  \n",
            " 16  release_date      170653 non-null  object \n",
            " 17  speechiness       170653 non-null  float64\n",
            " 18  tempo             170653 non-null  float64\n",
            "dtypes: float64(9), int64(6), object(4)\n",
            "memory usage: 24.7+ MB\n"
          ]
        }
      ]
    },
    {
      "cell_type": "code",
      "source": [
        "nan_count_track_popularity = data['popularity'].isna().sum()\n",
        "nan_count_key = data['key'].isna().sum()\n",
        "\n",
        "print(\"Jumlah nilai NaN dalam kolom 'popularity':\", nan_count_track_popularity)\n",
        "print(\"Jumlah nilai NaN dalam kolom 'key':\", nan_count_key)"
      ],
      "metadata": {
        "colab": {
          "base_uri": "https://localhost:8080/"
        },
        "id": "gftXHk2VrxU2",
        "outputId": "4387ce4c-3775-4aee-c842-cf15877327dd"
      },
      "execution_count": 7,
      "outputs": [
        {
          "output_type": "stream",
          "name": "stdout",
          "text": [
            "Jumlah nilai NaN dalam kolom 'popularity': 0\n",
            "Jumlah nilai NaN dalam kolom 'key': 0\n"
          ]
        }
      ]
    },
    {
      "cell_type": "code",
      "source": [
        "data.dropna(subset=['key'], inplace=True)"
      ],
      "metadata": {
        "id": "9oaijKOOr_sd"
      },
      "execution_count": 8,
      "outputs": []
    },
    {
      "cell_type": "code",
      "source": [
        "nan_count_key = data['key'].isna().sum()"
      ],
      "metadata": {
        "id": "QxRT0i3YsCSu"
      },
      "execution_count": 9,
      "outputs": []
    },
    {
      "cell_type": "code",
      "source": [
        "print(f\"Jumlah nilai NaN dalam kolom key: {nan_count_key}\")"
      ],
      "metadata": {
        "colab": {
          "base_uri": "https://localhost:8080/"
        },
        "id": "VqOHAOUQsE0t",
        "outputId": "ecd69bc9-bfa3-4811-c379-db281fe601ff"
      },
      "execution_count": 10,
      "outputs": [
        {
          "output_type": "stream",
          "name": "stdout",
          "text": [
            "Jumlah nilai NaN dalam kolom key: 0\n"
          ]
        }
      ]
    },
    {
      "cell_type": "code",
      "source": [
        "data.shape"
      ],
      "metadata": {
        "colab": {
          "base_uri": "https://localhost:8080/"
        },
        "id": "ij1wU6O4sKPi",
        "outputId": "4ec8cbae-2fb7-48aa-da3f-73f7979586d7"
      },
      "execution_count": 11,
      "outputs": [
        {
          "output_type": "execute_result",
          "data": {
            "text/plain": [
              "(170653, 19)"
            ]
          },
          "metadata": {},
          "execution_count": 11
        }
      ]
    },
    {
      "cell_type": "code",
      "source": [
        "data['popularity'] = data['popularity'].astype(int)\n",
        "data['key'] = data['key'].astype(int)"
      ],
      "metadata": {
        "id": "y4br7HZQsPLh"
      },
      "execution_count": 12,
      "outputs": []
    },
    {
      "cell_type": "code",
      "source": [
        "cols_to_use = ['mode', 'tempo']\n",
        "X = data[cols_to_use]"
      ],
      "metadata": {
        "id": "vnCplFr2sUVs"
      },
      "execution_count": 13,
      "outputs": []
    },
    {
      "cell_type": "code",
      "source": [
        "y = data.duration_ms"
      ],
      "metadata": {
        "id": "aRmi-5vDsXcK"
      },
      "execution_count": 14,
      "outputs": []
    },
    {
      "cell_type": "code",
      "source": [
        "from sklearn.model_selection import train_test_split\n",
        "# Separate data into training and validation sets\n",
        "X_train, X_valid, y_train, y_valid = train_test_split(X, y, random_state = 42,test_size = 0.3)"
      ],
      "metadata": {
        "id": "Ygow8ZLDsZ6L"
      },
      "execution_count": 15,
      "outputs": []
    },
    {
      "cell_type": "code",
      "source": [
        "from xgboost import XGBRegressor\n",
        "\n",
        "my_model = XGBRegressor()\n",
        "my_model.fit(X_train, y_train)"
      ],
      "metadata": {
        "colab": {
          "base_uri": "https://localhost:8080/",
          "height": 248
        },
        "id": "Cm3iqjjnsdp_",
        "outputId": "ada2b5e3-a1b0-4b1b-f603-c7fbf3185e35"
      },
      "execution_count": 16,
      "outputs": [
        {
          "output_type": "execute_result",
          "data": {
            "text/plain": [
              "XGBRegressor(base_score=None, booster=None, callbacks=None,\n",
              "             colsample_bylevel=None, colsample_bynode=None,\n",
              "             colsample_bytree=None, device=None, early_stopping_rounds=None,\n",
              "             enable_categorical=False, eval_metric=None, feature_types=None,\n",
              "             gamma=None, grow_policy=None, importance_type=None,\n",
              "             interaction_constraints=None, learning_rate=None, max_bin=None,\n",
              "             max_cat_threshold=None, max_cat_to_onehot=None,\n",
              "             max_delta_step=None, max_depth=None, max_leaves=None,\n",
              "             min_child_weight=None, missing=nan, monotone_constraints=None,\n",
              "             multi_strategy=None, n_estimators=None, n_jobs=None,\n",
              "             num_parallel_tree=None, random_state=None, ...)"
            ],
            "text/html": [
              "<style>#sk-container-id-1 {color: black;background-color: white;}#sk-container-id-1 pre{padding: 0;}#sk-container-id-1 div.sk-toggleable {background-color: white;}#sk-container-id-1 label.sk-toggleable__label {cursor: pointer;display: block;width: 100%;margin-bottom: 0;padding: 0.3em;box-sizing: border-box;text-align: center;}#sk-container-id-1 label.sk-toggleable__label-arrow:before {content: \"▸\";float: left;margin-right: 0.25em;color: #696969;}#sk-container-id-1 label.sk-toggleable__label-arrow:hover:before {color: black;}#sk-container-id-1 div.sk-estimator:hover label.sk-toggleable__label-arrow:before {color: black;}#sk-container-id-1 div.sk-toggleable__content {max-height: 0;max-width: 0;overflow: hidden;text-align: left;background-color: #f0f8ff;}#sk-container-id-1 div.sk-toggleable__content pre {margin: 0.2em;color: black;border-radius: 0.25em;background-color: #f0f8ff;}#sk-container-id-1 input.sk-toggleable__control:checked~div.sk-toggleable__content {max-height: 200px;max-width: 100%;overflow: auto;}#sk-container-id-1 input.sk-toggleable__control:checked~label.sk-toggleable__label-arrow:before {content: \"▾\";}#sk-container-id-1 div.sk-estimator input.sk-toggleable__control:checked~label.sk-toggleable__label {background-color: #d4ebff;}#sk-container-id-1 div.sk-label input.sk-toggleable__control:checked~label.sk-toggleable__label {background-color: #d4ebff;}#sk-container-id-1 input.sk-hidden--visually {border: 0;clip: rect(1px 1px 1px 1px);clip: rect(1px, 1px, 1px, 1px);height: 1px;margin: -1px;overflow: hidden;padding: 0;position: absolute;width: 1px;}#sk-container-id-1 div.sk-estimator {font-family: monospace;background-color: #f0f8ff;border: 1px dotted black;border-radius: 0.25em;box-sizing: border-box;margin-bottom: 0.5em;}#sk-container-id-1 div.sk-estimator:hover {background-color: #d4ebff;}#sk-container-id-1 div.sk-parallel-item::after {content: \"\";width: 100%;border-bottom: 1px solid gray;flex-grow: 1;}#sk-container-id-1 div.sk-label:hover label.sk-toggleable__label {background-color: #d4ebff;}#sk-container-id-1 div.sk-serial::before {content: \"\";position: absolute;border-left: 1px solid gray;box-sizing: border-box;top: 0;bottom: 0;left: 50%;z-index: 0;}#sk-container-id-1 div.sk-serial {display: flex;flex-direction: column;align-items: center;background-color: white;padding-right: 0.2em;padding-left: 0.2em;position: relative;}#sk-container-id-1 div.sk-item {position: relative;z-index: 1;}#sk-container-id-1 div.sk-parallel {display: flex;align-items: stretch;justify-content: center;background-color: white;position: relative;}#sk-container-id-1 div.sk-item::before, #sk-container-id-1 div.sk-parallel-item::before {content: \"\";position: absolute;border-left: 1px solid gray;box-sizing: border-box;top: 0;bottom: 0;left: 50%;z-index: -1;}#sk-container-id-1 div.sk-parallel-item {display: flex;flex-direction: column;z-index: 1;position: relative;background-color: white;}#sk-container-id-1 div.sk-parallel-item:first-child::after {align-self: flex-end;width: 50%;}#sk-container-id-1 div.sk-parallel-item:last-child::after {align-self: flex-start;width: 50%;}#sk-container-id-1 div.sk-parallel-item:only-child::after {width: 0;}#sk-container-id-1 div.sk-dashed-wrapped {border: 1px dashed gray;margin: 0 0.4em 0.5em 0.4em;box-sizing: border-box;padding-bottom: 0.4em;background-color: white;}#sk-container-id-1 div.sk-label label {font-family: monospace;font-weight: bold;display: inline-block;line-height: 1.2em;}#sk-container-id-1 div.sk-label-container {text-align: center;}#sk-container-id-1 div.sk-container {/* jupyter's `normalize.less` sets `[hidden] { display: none; }` but bootstrap.min.css set `[hidden] { display: none !important; }` so we also need the `!important` here to be able to override the default hidden behavior on the sphinx rendered scikit-learn.org. See: https://github.com/scikit-learn/scikit-learn/issues/21755 */display: inline-block !important;position: relative;}#sk-container-id-1 div.sk-text-repr-fallback {display: none;}</style><div id=\"sk-container-id-1\" class=\"sk-top-container\"><div class=\"sk-text-repr-fallback\"><pre>XGBRegressor(base_score=None, booster=None, callbacks=None,\n",
              "             colsample_bylevel=None, colsample_bynode=None,\n",
              "             colsample_bytree=None, device=None, early_stopping_rounds=None,\n",
              "             enable_categorical=False, eval_metric=None, feature_types=None,\n",
              "             gamma=None, grow_policy=None, importance_type=None,\n",
              "             interaction_constraints=None, learning_rate=None, max_bin=None,\n",
              "             max_cat_threshold=None, max_cat_to_onehot=None,\n",
              "             max_delta_step=None, max_depth=None, max_leaves=None,\n",
              "             min_child_weight=None, missing=nan, monotone_constraints=None,\n",
              "             multi_strategy=None, n_estimators=None, n_jobs=None,\n",
              "             num_parallel_tree=None, random_state=None, ...)</pre><b>In a Jupyter environment, please rerun this cell to show the HTML representation or trust the notebook. <br />On GitHub, the HTML representation is unable to render, please try loading this page with nbviewer.org.</b></div><div class=\"sk-container\" hidden><div class=\"sk-item\"><div class=\"sk-estimator sk-toggleable\"><input class=\"sk-toggleable__control sk-hidden--visually\" id=\"sk-estimator-id-1\" type=\"checkbox\" checked><label for=\"sk-estimator-id-1\" class=\"sk-toggleable__label sk-toggleable__label-arrow\">XGBRegressor</label><div class=\"sk-toggleable__content\"><pre>XGBRegressor(base_score=None, booster=None, callbacks=None,\n",
              "             colsample_bylevel=None, colsample_bynode=None,\n",
              "             colsample_bytree=None, device=None, early_stopping_rounds=None,\n",
              "             enable_categorical=False, eval_metric=None, feature_types=None,\n",
              "             gamma=None, grow_policy=None, importance_type=None,\n",
              "             interaction_constraints=None, learning_rate=None, max_bin=None,\n",
              "             max_cat_threshold=None, max_cat_to_onehot=None,\n",
              "             max_delta_step=None, max_depth=None, max_leaves=None,\n",
              "             min_child_weight=None, missing=nan, monotone_constraints=None,\n",
              "             multi_strategy=None, n_estimators=None, n_jobs=None,\n",
              "             num_parallel_tree=None, random_state=None, ...)</pre></div></div></div></div></div>"
            ]
          },
          "metadata": {},
          "execution_count": 16
        }
      ]
    },
    {
      "cell_type": "code",
      "source": [
        "from sklearn.metrics import mean_absolute_error\n",
        "\n",
        "predictions = my_model.predict(X_valid)\n",
        "print (\"Mean Absolute Error: \" + str(mean_absolute_error(predictions, y_valid)))"
      ],
      "metadata": {
        "colab": {
          "base_uri": "https://localhost:8080/"
        },
        "id": "tSI1u5iRshmA",
        "outputId": "344ba2a5-cd29-4dd3-dc70-e1ac936cc736"
      },
      "execution_count": 17,
      "outputs": [
        {
          "output_type": "stream",
          "name": "stdout",
          "text": [
            "Mean Absolute Error: 72606.92261480389\n"
          ]
        }
      ]
    },
    {
      "cell_type": "code",
      "source": [
        "my_model_0 = XGBRegressor(n_estimators=500)\n",
        "my_model_0.fit(X_train, y_train)\n",
        "predictions_0 = my_model_0.predict(X_valid)\n",
        "print (\"Mean Absolute Error: \" + str(mean_absolute_error(predictions_0, y_valid)))"
      ],
      "metadata": {
        "colab": {
          "base_uri": "https://localhost:8080/"
        },
        "id": "921UZ1U2sk5v",
        "outputId": "854acb5f-4413-4ede-9732-1cb2ba4c7475"
      },
      "execution_count": 18,
      "outputs": [
        {
          "output_type": "stream",
          "name": "stdout",
          "text": [
            "Mean Absolute Error: 72652.42629795296\n"
          ]
        }
      ]
    },
    {
      "cell_type": "code",
      "source": [
        "my_model_1 = XGBRegressor(n_estimators=110)\n",
        "my_model_1.fit(X_train, y_train)"
      ],
      "metadata": {
        "colab": {
          "base_uri": "https://localhost:8080/",
          "height": 248
        },
        "id": "94qZZJ7ksnpw",
        "outputId": "162f3997-d8d8-4d52-e3c4-d5d7b4a7b928"
      },
      "execution_count": 19,
      "outputs": [
        {
          "output_type": "execute_result",
          "data": {
            "text/plain": [
              "XGBRegressor(base_score=None, booster=None, callbacks=None,\n",
              "             colsample_bylevel=None, colsample_bynode=None,\n",
              "             colsample_bytree=None, device=None, early_stopping_rounds=None,\n",
              "             enable_categorical=False, eval_metric=None, feature_types=None,\n",
              "             gamma=None, grow_policy=None, importance_type=None,\n",
              "             interaction_constraints=None, learning_rate=None, max_bin=None,\n",
              "             max_cat_threshold=None, max_cat_to_onehot=None,\n",
              "             max_delta_step=None, max_depth=None, max_leaves=None,\n",
              "             min_child_weight=None, missing=nan, monotone_constraints=None,\n",
              "             multi_strategy=None, n_estimators=110, n_jobs=None,\n",
              "             num_parallel_tree=None, random_state=None, ...)"
            ],
            "text/html": [
              "<style>#sk-container-id-2 {color: black;background-color: white;}#sk-container-id-2 pre{padding: 0;}#sk-container-id-2 div.sk-toggleable {background-color: white;}#sk-container-id-2 label.sk-toggleable__label {cursor: pointer;display: block;width: 100%;margin-bottom: 0;padding: 0.3em;box-sizing: border-box;text-align: center;}#sk-container-id-2 label.sk-toggleable__label-arrow:before {content: \"▸\";float: left;margin-right: 0.25em;color: #696969;}#sk-container-id-2 label.sk-toggleable__label-arrow:hover:before {color: black;}#sk-container-id-2 div.sk-estimator:hover label.sk-toggleable__label-arrow:before {color: black;}#sk-container-id-2 div.sk-toggleable__content {max-height: 0;max-width: 0;overflow: hidden;text-align: left;background-color: #f0f8ff;}#sk-container-id-2 div.sk-toggleable__content pre {margin: 0.2em;color: black;border-radius: 0.25em;background-color: #f0f8ff;}#sk-container-id-2 input.sk-toggleable__control:checked~div.sk-toggleable__content {max-height: 200px;max-width: 100%;overflow: auto;}#sk-container-id-2 input.sk-toggleable__control:checked~label.sk-toggleable__label-arrow:before {content: \"▾\";}#sk-container-id-2 div.sk-estimator input.sk-toggleable__control:checked~label.sk-toggleable__label {background-color: #d4ebff;}#sk-container-id-2 div.sk-label input.sk-toggleable__control:checked~label.sk-toggleable__label {background-color: #d4ebff;}#sk-container-id-2 input.sk-hidden--visually {border: 0;clip: rect(1px 1px 1px 1px);clip: rect(1px, 1px, 1px, 1px);height: 1px;margin: -1px;overflow: hidden;padding: 0;position: absolute;width: 1px;}#sk-container-id-2 div.sk-estimator {font-family: monospace;background-color: #f0f8ff;border: 1px dotted black;border-radius: 0.25em;box-sizing: border-box;margin-bottom: 0.5em;}#sk-container-id-2 div.sk-estimator:hover {background-color: #d4ebff;}#sk-container-id-2 div.sk-parallel-item::after {content: \"\";width: 100%;border-bottom: 1px solid gray;flex-grow: 1;}#sk-container-id-2 div.sk-label:hover label.sk-toggleable__label {background-color: #d4ebff;}#sk-container-id-2 div.sk-serial::before {content: \"\";position: absolute;border-left: 1px solid gray;box-sizing: border-box;top: 0;bottom: 0;left: 50%;z-index: 0;}#sk-container-id-2 div.sk-serial {display: flex;flex-direction: column;align-items: center;background-color: white;padding-right: 0.2em;padding-left: 0.2em;position: relative;}#sk-container-id-2 div.sk-item {position: relative;z-index: 1;}#sk-container-id-2 div.sk-parallel {display: flex;align-items: stretch;justify-content: center;background-color: white;position: relative;}#sk-container-id-2 div.sk-item::before, #sk-container-id-2 div.sk-parallel-item::before {content: \"\";position: absolute;border-left: 1px solid gray;box-sizing: border-box;top: 0;bottom: 0;left: 50%;z-index: -1;}#sk-container-id-2 div.sk-parallel-item {display: flex;flex-direction: column;z-index: 1;position: relative;background-color: white;}#sk-container-id-2 div.sk-parallel-item:first-child::after {align-self: flex-end;width: 50%;}#sk-container-id-2 div.sk-parallel-item:last-child::after {align-self: flex-start;width: 50%;}#sk-container-id-2 div.sk-parallel-item:only-child::after {width: 0;}#sk-container-id-2 div.sk-dashed-wrapped {border: 1px dashed gray;margin: 0 0.4em 0.5em 0.4em;box-sizing: border-box;padding-bottom: 0.4em;background-color: white;}#sk-container-id-2 div.sk-label label {font-family: monospace;font-weight: bold;display: inline-block;line-height: 1.2em;}#sk-container-id-2 div.sk-label-container {text-align: center;}#sk-container-id-2 div.sk-container {/* jupyter's `normalize.less` sets `[hidden] { display: none; }` but bootstrap.min.css set `[hidden] { display: none !important; }` so we also need the `!important` here to be able to override the default hidden behavior on the sphinx rendered scikit-learn.org. See: https://github.com/scikit-learn/scikit-learn/issues/21755 */display: inline-block !important;position: relative;}#sk-container-id-2 div.sk-text-repr-fallback {display: none;}</style><div id=\"sk-container-id-2\" class=\"sk-top-container\"><div class=\"sk-text-repr-fallback\"><pre>XGBRegressor(base_score=None, booster=None, callbacks=None,\n",
              "             colsample_bylevel=None, colsample_bynode=None,\n",
              "             colsample_bytree=None, device=None, early_stopping_rounds=None,\n",
              "             enable_categorical=False, eval_metric=None, feature_types=None,\n",
              "             gamma=None, grow_policy=None, importance_type=None,\n",
              "             interaction_constraints=None, learning_rate=None, max_bin=None,\n",
              "             max_cat_threshold=None, max_cat_to_onehot=None,\n",
              "             max_delta_step=None, max_depth=None, max_leaves=None,\n",
              "             min_child_weight=None, missing=nan, monotone_constraints=None,\n",
              "             multi_strategy=None, n_estimators=110, n_jobs=None,\n",
              "             num_parallel_tree=None, random_state=None, ...)</pre><b>In a Jupyter environment, please rerun this cell to show the HTML representation or trust the notebook. <br />On GitHub, the HTML representation is unable to render, please try loading this page with nbviewer.org.</b></div><div class=\"sk-container\" hidden><div class=\"sk-item\"><div class=\"sk-estimator sk-toggleable\"><input class=\"sk-toggleable__control sk-hidden--visually\" id=\"sk-estimator-id-2\" type=\"checkbox\" checked><label for=\"sk-estimator-id-2\" class=\"sk-toggleable__label sk-toggleable__label-arrow\">XGBRegressor</label><div class=\"sk-toggleable__content\"><pre>XGBRegressor(base_score=None, booster=None, callbacks=None,\n",
              "             colsample_bylevel=None, colsample_bynode=None,\n",
              "             colsample_bytree=None, device=None, early_stopping_rounds=None,\n",
              "             enable_categorical=False, eval_metric=None, feature_types=None,\n",
              "             gamma=None, grow_policy=None, importance_type=None,\n",
              "             interaction_constraints=None, learning_rate=None, max_bin=None,\n",
              "             max_cat_threshold=None, max_cat_to_onehot=None,\n",
              "             max_delta_step=None, max_depth=None, max_leaves=None,\n",
              "             min_child_weight=None, missing=nan, monotone_constraints=None,\n",
              "             multi_strategy=None, n_estimators=110, n_jobs=None,\n",
              "             num_parallel_tree=None, random_state=None, ...)</pre></div></div></div></div></div>"
            ]
          },
          "metadata": {},
          "execution_count": 19
        }
      ]
    },
    {
      "cell_type": "code",
      "source": [
        "my_model_1 = XGBRegressor(n_estimators=110)\n",
        "my_model_1.fit(X_train, y_train)\n",
        "\n",
        "predictions_1 = my_model_1.predict(X_valid)\n",
        "print(\"Mean Absolute Error: \" + str(mean_absolute_error(predictions_1, y_valid)))"
      ],
      "metadata": {
        "colab": {
          "base_uri": "https://localhost:8080/"
        },
        "id": "nzX-jGuNssMS",
        "outputId": "1a4cc518-49d4-4676-a0ad-018949e09ddd"
      },
      "execution_count": 20,
      "outputs": [
        {
          "output_type": "stream",
          "name": "stdout",
          "text": [
            "Mean Absolute Error: 72613.95921708971\n"
          ]
        }
      ]
    },
    {
      "cell_type": "code",
      "source": [
        "from sklearn.model_selection import GridSearchCV\n",
        "\n",
        "# Tentukan model XGBoost\n",
        "model_grid = XGBRegressor()\n",
        "\n",
        "# Tentukan parameter grid\n",
        "param_grid = {\n",
        "    'n_estimators': [100, 120, 230, 250, 800]\n",
        "}\n",
        "\n",
        "# Inisialisasi GridSearchCV\n",
        "grid_search = GridSearchCV(estimator=model_grid, param_grid=param_grid, cv=5, scoring='neg_mean_absolute_error')\n",
        "\n",
        "# Lakukan fitting menggunakan data training\n",
        "grid_search.fit(X_train, y_train)\n",
        "\n",
        "# Dapatkan parameter terbaik\n",
        "best_n_estimators = grid_search.best_params_['n_estimators']\n",
        "\n",
        "print(\"Nilai n_estimators terbaik:\", best_n_estimators)"
      ],
      "metadata": {
        "colab": {
          "base_uri": "https://localhost:8080/"
        },
        "id": "9S5NtcXlsvE9",
        "outputId": "e48ee448-8bd4-47f5-90d8-efc26b4aeed3"
      },
      "execution_count": 22,
      "outputs": [
        {
          "output_type": "stream",
          "name": "stdout",
          "text": [
            "Nilai n_estimators terbaik: 100\n"
          ]
        }
      ]
    },
    {
      "cell_type": "code",
      "source": [
        "# Tentukan range nilai n_estimators yang akan diuji\n",
        "n_estimators_list = [100, 120, 230, 250, 800]\n",
        "\n",
        "# Inisialisasi sebuah list untuk menyimpan hasil MAE\n",
        "mae_results = []\n",
        "\n",
        "# Loop melalui setiap nilai n_estimators\n",
        "for n_estimators in n_estimators_list:\n",
        "    # Inisialisasi model dengan n_estimators tertentu\n",
        "    model_grid = XGBRegressor(n_estimators=n_estimators)\n",
        "\n",
        "    # Fitting model menggunakan data training\n",
        "    model_grid.fit(X_train, y_train)\n",
        "\n",
        "    # Lakukan prediksi pada data validasi\n",
        "    predictions = model_grid.predict(X_valid)\n",
        "\n",
        "    # Hitung Mean Absolute Error\n",
        "    mae = mean_absolute_error(predictions, y_valid)\n",
        "\n",
        "    # Tampilkan nilai n_estimators dan MAE\n",
        "    print(f\"n_estimators: {n_estimators}, Mean Absolute Error: {mae}\")\n",
        "\n",
        "    # Tambahkan nilai MAE ke dalam list\n",
        "    mae_results.append(mae)"
      ],
      "metadata": {
        "colab": {
          "base_uri": "https://localhost:8080/"
        },
        "id": "Z95oc9Abs-8F",
        "outputId": "346c9fd1-c6e9-4438-959f-f91a62873d3f"
      },
      "execution_count": 23,
      "outputs": [
        {
          "output_type": "stream",
          "name": "stdout",
          "text": [
            "n_estimators: 100, Mean Absolute Error: 72606.92261480389\n",
            "n_estimators: 120, Mean Absolute Error: 72619.78274914056\n",
            "n_estimators: 230, Mean Absolute Error: 72646.32960827017\n",
            "n_estimators: 250, Mean Absolute Error: 72648.28022971765\n",
            "n_estimators: 800, Mean Absolute Error: 72652.48065003857\n"
          ]
        }
      ]
    },
    {
      "cell_type": "code",
      "source": [
        "my_model_2 = XGBRegressor(n_estimators=100)\n",
        "my_model_2.fit(X_train, y_train,\n",
        "               early_stopping_rounds=5,\n",
        "               eval_set=[(X_valid, y_valid)],\n",
        "               verbose=False)\n",
        "\n",
        "predictions_2 = my_model_2.predict(X_valid)\n",
        "print(\"Mean Absolute Error: \" + str(mean_absolute_error(predictions_2, y_valid)))"
      ],
      "metadata": {
        "colab": {
          "base_uri": "https://localhost:8080/"
        },
        "id": "e43IX2m_tKrk",
        "outputId": "1920cc61-e1a2-46dc-a10b-0b9f06a01b4b"
      },
      "execution_count": 24,
      "outputs": [
        {
          "output_type": "stream",
          "name": "stderr",
          "text": [
            "/usr/local/lib/python3.10/dist-packages/xgboost/sklearn.py:885: UserWarning: `early_stopping_rounds` in `fit` method is deprecated for better compatibility with scikit-learn, use `early_stopping_rounds` in constructor or`set_params` instead.\n",
            "  warnings.warn(\n"
          ]
        },
        {
          "output_type": "stream",
          "name": "stdout",
          "text": [
            "Mean Absolute Error: 72416.59760009327\n"
          ]
        }
      ]
    }
  ]
}